{
 "cells": [
  {
   "cell_type": "markdown",
   "metadata": {},
   "source": [
    "# Loading data\n",
    "\n",
    "To use `flyswot-gym` we need to ensure that we have data available in a form that `flyswot-gym` can work with. Specifically `flyswot-gym` expects data to be available on the Hugging Face Hub. This document explains one way of getting data into the hub (in the right format). "
   ]
  },
  {
   "cell_type": "markdown",
   "metadata": {},
   "source": [
    "## What you need to have installed\n",
    "\n",
    "There are a few things you will need to have installed before you can follow the remaining steps. \n",
    "\n",
    "### Git\n",
    "[git](https://git-scm.com/) is an open-source version control system. We use this along with `git-lfs` (see below) to upload our data to the hub. \n",
    "\n",
    "### git-lfs\n",
    "`git` is primarily intended for versioning software source code. This means git is primarily intended for working with relatively small plain text files. [git-lfs](https://git-lfs.github.com/) (Git Large File Storage (LFS) ) is an extension for git which adds support for versioning large files. In our case this will mean that we can version our image files more easily. \n",
    "\n",
    "::: {.callout-tip}\n",
    "## Installing git and git-lfs \n",
    "\n",
    "If you are running Linux you should be able to install `git` and `git-lfs` via your package manager. If you are running macOS you should be able to install via [homebrew](https://brew.sh/). \n",
    "\n",
    "On Windows, using [https://gitforwindows.org/](https://gitforwindows.org/) to install git will also install `git-lfs`. \n",
    "\n",
    ":::\n",
    "\n",
    "\n",
    "- Git-lfs\n",
    "- huggingface-hub\n"
   ]
  },
  {
   "cell_type": "markdown",
   "metadata": {},
   "source": [
    "## Installing the huggingface_hub library\n",
    "\n",
    "\n",
    "```bash\n",
    "python -m pip install huggingface_hub\n",
    "```"
   ]
  },
  {
   "cell_type": "markdown",
   "metadata": {},
   "source": [
    "This will allow you to authenticate with the Hugging Face hub"
   ]
  },
  {
   "cell_type": "markdown",
   "metadata": {},
   "source": []
  },
  {
   "cell_type": "markdown",
   "metadata": {},
   "source": [
    "### Git config\n",
    "\n"
   ]
  },
  {
   "cell_type": "code",
   "execution_count": null,
   "metadata": {},
   "outputs": [],
   "source": [
    "!git config --global credential.helper store"
   ]
  },
  {
   "cell_type": "markdown",
   "metadata": {},
   "source": [
    "## Authenticate with Hugging Face Hub"
   ]
  },
  {
   "cell_type": "markdown",
   "metadata": {},
   "source": [
    "```bash\n",
    "git config --global credential.helper store\n",
    "```"
   ]
  },
  {
   "cell_type": "markdown",
   "metadata": {},
   "source": [
    "```bash\n",
    "huggingface-cli login\n",
    "```"
   ]
  },
  {
   "cell_type": "code",
   "execution_count": null,
   "metadata": {},
   "outputs": [],
   "source": []
  }
 ],
 "metadata": {
  "kernelspec": {
   "display_name": "Python 3",
   "language": "python",
   "name": "python3"
  }
 },
 "nbformat": 4,
 "nbformat_minor": 0
}
