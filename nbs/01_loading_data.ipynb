{
 "cells": [
  {
   "cell_type": "markdown",
   "metadata": {},
   "source": [
    "# Preparing data for flyswot gym\n"
   ]
  },
  {
   "cell_type": "markdown",
   "metadata": {},
   "source": [
    "\n",
    "To use `flyswot-gym` we need to ensure that we have data available in a form that `flyswot-gym` can work with. Specifically `flyswot-gym` expects data to be available on the Hugging Face Hub. This document explains one way of getting data into the hub (in the right format). "
   ]
  },
  {
   "cell_type": "markdown",
   "metadata": {},
   "source": [
    "## What you need to have installed\n",
    "\n",
    "There are a few things you will need to have installed before you can follow the remaining steps. \n",
    "\n",
    "### Git\n",
    "[git](https://git-scm.com/) is an open-source version control system. We use this along with `git-lfs` (see below) to upload our data to the hub. \n",
    "\n",
    "### git-lfs\n",
    "`git` is primarily intended for versioning software source code. This means git is primarily intended for working with relatively small plain text files.\n",
    "\n",
    "[git-lfs](https://git-lfs.github.com/) (Git Large File Storage (LFS) ) is an extension for git which adds support for versioning large files. In our case this will mean that we can version our image files more easily. \n",
    "\n",
    "::: {.callout-tip}\n",
    "## Installing git and git-lfs \n",
    "\n",
    "If you are running Linux you should be able to install `git` and `git-lfs` via your package manager. If you are running macOS you should be able to install via [homebrew](https://brew.sh/). \n",
    "\n",
    "On Windows, using [https://gitforwindows.org/](https://gitforwindows.org/) to install git will also install `git-lfs`. \n",
    ":::\n",
    "\n",
    "## Hugging Face hub \n",
    "\n",
    "We'll also install the `huggingface_hub` python library. This will allow us to authenticate our Hugging Face account. \n",
    "\n",
    "\n",
    "## Hugging Face account \n",
    "In oder to use the [Hugging Face](https://huggingface.co/datasets) hub we need need to have an account with Hugging Face. If you don't already have an account you can create one here: [https://huggingface.co/join](https://huggingface.co/join).\n"
   ]
  },
  {
   "cell_type": "markdown",
   "metadata": {},
   "source": [
    "## Installing the huggingface_hub library\n",
    "\n",
    "We can install the `huggingface_hub` library using pip:\n",
    "\n",
    "```bash\n",
    "pip install huggingface_hub\n",
    "```"
   ]
  },
  {
   "cell_type": "markdown",
   "metadata": {},
   "source": [
    "## Authenticate with Hugging Face Hub\n",
    "\n",
    "There are a few steps we need to take to ensure we can push datasets from our machine to the hugging face hub. Most of these steps will only have to be run one per machine. "
   ]
  },
  {
   "cell_type": "markdown",
   "metadata": {},
   "source": [
    "### git config\n",
    "\n",
    "We can use the `git` `config` command can be used to configure options for `git`. In this case we set enable a credential helper which will make managing authentication a little easier.\n",
    "\n",
    "```bash\n",
    "git config --global credential.helper store\n",
    "```\n"
   ]
  },
  {
   "cell_type": "markdown",
   "metadata": {},
   "source": [
    "From here we can use the `huggingface-cli` `login` command to ensure we are authenticated with the 🤗 hub.  "
   ]
  },
  {
   "cell_type": "markdown",
   "metadata": {},
   "source": [
    "```bash\n",
    "huggingface-cli login\n",
    "```"
   ]
  },
  {
   "cell_type": "markdown",
   "metadata": {},
   "source": [
    "![](https://github.com/flyswot/gym/raw/main/assets/hf-login-demo.gif)"
   ]
  },
  {
   "cell_type": "markdown",
   "metadata": {},
   "source": [
    "## Creating an ImageFolder dataset\n",
    "\n",
    "`flyswot-gym` expects data to be arranged in an `imagefolder` style. This format uses folder names to associate images inside that folder with that name. For example:\n",
    "\n",
    "```\n",
    "Images/\n",
    "    dogs/\n",
    "        dog1.jpg\n",
    "        dog2.jpg\n",
    "    cats/\n",
    "        cats1.jpg\n",
    "        cats2.jpg\n",
    "```\n",
    "\n",
    "Whilst this format has limitations it doesn't require special software to create and it's simple to explain to people how the format works. "
   ]
  },
  {
   "cell_type": "markdown",
   "metadata": {},
   "source": [
    "## Upload data (for the first time)\n",
    "\n",
    "The steps below are for uploading a new dataset for the first time. Below you find instructions for updating a dataset. \n",
    "\n",
    "### Create a repository \n",
    "\n",
    "The first step to upload a new dataset to the Hugging Face hub is to create a repository for the dataset. There are various ways of doing this but we'll use the web interface on the Hugging Face website ([https://huggingface.co/](https://huggingface.co/)). Clicking on your profile picture on the top right of the page will show a drop down menu where you can click `New Dataset`\n",
    "\n",
    "![](https://raw.githubusercontent.com/flyswot/gym/main/assets/hf-create-dataset.webp)\n",
    "\n",
    "When you click `New Dataset` you will be presented with some options related to your dataset: \n",
    "\n",
    "![](https://github.com/flyswot/gym/blob/main/assets/hf-name-dataset.webp?raw=true)\n",
    "\n",
    "You will have the option of creating a dataset under a personal account or an organization. If you are planning to use the data for training flyswot models you probably want to use the `flyswot` Hugging Face organization. This will allow other people who are part of this organization to work with this data. \n",
    "\n",
    "You also have the option to choose a name for your dataset. The name of your dataset doesn't matter too much but it will be helpful for you later if the dataset naming makes it clear what the data is for. \n",
    "\n",
    "::: {.callout-warning}\n",
    "# Keeping data private \n",
    "\n",
    "Depending on what kind of data you are working with you may want decide to share it publicly or keep it private. To keep it private make sure you choose the private option when creating the dataset. It's possible to change this later if you decide you want to make the data public. \n",
    ":::\n",
    "\n",
    "\n",
    "### Create a folder to use for managing Hugging Face Datasets\n",
    "\n",
    "This step is optional, but you may find it helpful to create a folder/directory to use for managing and storing datasets that are going to be uploaded to the Hugging Face hub. For example you may want to create a folder on your Desktop called `huggingface_datasets`. This folder can then act as a central place to store datasets you are working with on the Hugging Face hub. \n",
    "\n",
    "### Clone repo \n",
    "\n",
    "Once you have created a dataset on the Hugging Face hub we can `clone` it to our machine. When using `git` the `clone` command is used to make a copy of a remote dataset (in this case a dataset on the Hub) to another place (in this case to the machine when our data is currently stored). [Git-guides](https://github.com/git-guides/git-clone) has some further information about the clone command if you are interested in learning more. \n",
    "\n",
    "To `clone` the dataset you need to find the URL for the dataset. To get this you can go to your dataset on the hub and click 'Use in dataset library'\n",
    "![](https://github.com/flyswot/gym/blob/main/assets/use-in-library.webp?raw=true)\n",
    "\n",
    "Once you've clicked on this you'll get a link for clone the dataset \n",
    "\n",
    "![](https://github.com/flyswot/gym/blob/main/assets/git-clone-image.webp?raw=true)\n",
    "\n",
    "In your command prompt/terminal navigate to the folder/directory you want to use for storing your dataset. \n",
    "\n",
    "From here you can run \n",
    "\n",
    "```python\n",
    "git lfs install\n",
    "```\n",
    "\n",
    "to install `git lfs`, followed by \n",
    "\n",
    "```bash\n",
    "git clone URL\n",
    "```\n",
    "\n",
    "For example to clone a repo called `flyswot` inside the `flyswot` organization you would run:\n",
    "\n",
    "```bash\n",
    "git clone https://huggingface.co/datasets/flyswot/test\n",
    "```\n",
    "\n",
    "::: {.callout-tip}\n",
    "\n",
    "If you are running Windows and have git bash installed you can right click on a folder and click git bash here to open the terminal inside that folder. \n",
    "![](https://github.com/flyswot/gym/blob/main/assets/gitbash-shortcut.webp?raw=true)\n",
    ":::\n",
    "\n",
    "### Copy data \n",
    "\n",
    "Once you have cloned the repo you will see a new folder in the location where you ran the clone command. This folder will have the same name as the repository you just created. \n",
    "\n",
    "Copy the image folder dataset containing your images to the directory you just cloned. You can either do this on the command line or use your file explorer. \n",
    "\n",
    "### Add Files\n",
    "\n",
    "Once you have copied the image folder directory into your cloned repository you need to `add` the files you want git to `track`. Using `git add` tells git that you want it to keep track of a certain file for changes and in our case to `push` these files upstream to a repository. \n",
    "\n",
    "In our case we want to add image files. We can use a 'wildcard' to add all files with a particular extension. \n",
    "\n",
    "```bash\n",
    "git add \"imagefolder/**/*.jpg\"\n",
    "```\n",
    "\n",
    "This will recursively add all the files with the extension `.jpg`. To account for files having the `.jpeg` extension we can also add these\n",
    "\n",
    "```bash\n",
    "git add \"imagefolder/**/*.jpeg\"\n",
    "```\n",
    "\n",
    "::: {.callout-tip}\n",
    "You may also have images stored in other formats such as `.tiff` files. Whilst you could add these files in the same way as above you may want to convert these files to to JPEG files to reduce the size of your dataset. This will make moving your dataset around quicker. \n",
    ":::\n",
    "\n",
    "### Commit \n",
    "\n",
    "Once you have added your files you need to use `git commit` to tell git you want to `commit` the files you just added to the history of the git repository. This will allow you to push the files you just added to the Hugging Face hub. \n",
    "\n",
    "When you commit files you usually include a message which acts as a record of what you were doing in that commit. You can pass this message in using the `-m` flag. \n",
    "\n",
    "```bash\n",
    "git commit -m \"upload training data\" \n",
    "```\n",
    "\n",
    "### Push \n",
    "\n",
    "Once you have run `git commit` you can use `git push` to push your data to the remote repository. \n",
    "\n",
    "```bash\n",
    "git push\n",
    "````\n",
    "\n",
    "This will `push` the files you committed to the repository on the Hugging Face hub. This step may take some time depending on the size of your data. \n",
    "\n",
    "Once the push command has finished you will see the newly added files on the repository on the Hugging Face hub. "
   ]
  }
 ],
 "metadata": {
  "kernelspec": {
   "display_name": "Python 3.7.11",
   "language": "python",
   "name": "python3"
  }
 },
 "nbformat": 4,
 "nbformat_minor": 0
}
