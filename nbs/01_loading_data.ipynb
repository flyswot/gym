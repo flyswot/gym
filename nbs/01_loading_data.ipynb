{
 "cells": [
  {
   "cell_type": "markdown",
   "metadata": {},
   "source": [
    "# Preparing data for flyswot gym\n",
    "\n",
    "To use `flyswot-gym` we need to ensure that we have data available in a form that `flyswot-gym` can work with. Specifically `flyswot-gym` expects data to be available on the Hugging Face Hub. This document explains one way of getting data into the hub (in the right format). "
   ]
  },
  {
   "cell_type": "markdown",
   "metadata": {},
   "source": [
    "## What you need to have installed\n",
    "\n",
    "There are a few things you will need to have installed before you can follow the remaining steps. \n",
    "\n",
    "### Git\n",
    "[git](https://git-scm.com/) is an open-source version control system. We use this along with `git-lfs` (see below) to upload our data to the hub. \n",
    "\n",
    "### git-lfs\n",
    "`git` is primarily intended for versioning software source code. This means git is primarily intended for working with relatively small plain text files.\n",
    "\n",
    "[git-lfs](https://git-lfs.github.com/) (Git Large File Storage (LFS) ) is an extension for git which adds support for versioning large files. In our case this will mean that we can version our image files more easily. \n",
    "\n",
    "::: {.callout-tip}\n",
    "## Installing git and git-lfs \n",
    "\n",
    "If you are running Linux you should be able to install `git` and `git-lfs` via your package manager. If you are running macOS you should be able to install via [homebrew](https://brew.sh/). \n",
    "\n",
    "On Windows, using [https://gitforwindows.org/](https://gitforwindows.org/) to install git will also install `git-lfs`. \n",
    ":::\n",
    "\n",
    "## Hugging Face hub \n",
    "\n",
    "We'll also install the `huggingface_hub` python library. This will allow us to authenticate our Hugging Face account. \n",
    "\n",
    "\n",
    "## Hugging Face account \n",
    "In oder to use the [Hugging Face](https://huggingface.co/datasets) hub we need need to have an account with Hugging Face. If you don't already have an account you can create one here: [https://huggingface.co/join](https://huggingface.co/join).\n"
   ]
  },
  {
   "cell_type": "markdown",
   "metadata": {},
   "source": [
    "## Installing the huggingface_hub library\n",
    "\n",
    "We can install the `huggingface_hub` library using pip:\n",
    "\n",
    "```bash\n",
    "pip install huggingface_hub\n",
    "```"
   ]
  },
  {
   "cell_type": "markdown",
   "metadata": {},
   "source": [
    "## Authenticate with Hugging Face Hub\n",
    "\n",
    "There are a few steps we need to take to ensure we can push datasets from our machine to the hugging face hub. Most of these steps will only have to be run one per machine. "
   ]
  },
  {
   "cell_type": "markdown",
   "metadata": {},
   "source": [
    "### git config\n",
    "\n",
    "We can use the `git` `config` command can be used to configure options for `git`. In this case we set enable a credential helper which will make managing authentication a little easier.\n",
    "\n",
    "```bash\n",
    "git config --global credential.helper store\n",
    "```\n"
   ]
  },
  {
   "cell_type": "markdown",
   "metadata": {},
   "source": [
    "From here we can use the `huggingface-cli` `login` command to ensure we are authenticated with the 🤗 hub.  "
   ]
  },
  {
   "cell_type": "markdown",
   "metadata": {},
   "source": [
    "```bash\n",
    "huggingface-cli login\n",
    "```"
   ]
  },
  {
   "cell_type": "markdown",
   "metadata": {},
   "source": [
    "![](https://github.com/flyswot/gym/raw/main/assets/hf-login-demo.gif)"
   ]
  },
  {
   "cell_type": "markdown",
   "metadata": {},
   "source": [
    "## Creating an ImageFolder dataset\n",
    "\n",
    "`flyswot-gym` expects data to be arranged in an `imagefolder` style. This format uses folder names to associate images inside that folder with that name. For example:\n",
    "\n",
    "```\n",
    "Images/\n",
    "    dogs/\n",
    "        dog1.jpg\n",
    "        dog2.jpg\n",
    "    cats/\n",
    "        cats1.jpg\n",
    "        cats2.jpg\n",
    "```\n",
    "\n",
    "Whilst this format has limitations it doesn't require special software to create and it's simple to explain to people how the format works. "
   ]
  },
  {
   "cell_type": "markdown",
   "metadata": {},
   "source": [
    "## Upload data (for the first time)\n",
    "\n",
    "The steps below are for uploading a new dataset for the first time. Below you find instructions for updating a dataset. \n",
    "\n",
    "### Create a repository \n",
    "\n",
    "The first step to upload a new dataset to the Hugging Face hub is to create a repository for the dataset. There are various ways of doing this but we'll use the web interface on the Hugging Face website ([https://huggingface.co/](https://huggingface.co/)). Clicking on your profile picture on the top right of the page will show a drop down menu where you can click `New Dataset`\n",
    "\n",
    "![](https://raw.githubusercontent.com/flyswot/gym/main/assets/hf-create-dataset.webp)\n",
    "\n",
    "When you click `New Dataset` you will be presented with some options related to your dataset: \n",
    "\n",
    "![](https://github.com/flyswot/gym/blob/main/assets/hf-name-dataset.webp?raw=true)\n",
    "\n",
    "You will have the option of creating a dataset under a personal account or an organization. If you are planning to use the data for training flyswot models you probably want to use the `flyswot` Hugging Face organization. This will allow other people who are part of this organization to work with this data. \n",
    "\n",
    "You also have the option to choose a name for your dataset. The name of your dataset doesn't matter too much but it will be helpful for you later if the dataset naming makes it clear what the data is for. \n",
    "\n",
    "::: {.callout-warning}\n",
    "# ⚠️ Keeping data private ⚠️\n",
    "\n",
    "Depending on what kind of data you are working with you may want decide to share it publicly or keep it private. To keep it private make sure you choose the private option when creating the dataset. It's possible to change this later if you decide you want to make the data public. \n",
    ":::\n",
    "\n",
    "### Clone repo \n",
    "\n",
    "\n",
    "\n",
    "### Copy data \n",
    "\n",
    "\n",
    "### add files\n",
    "\n",
    "\n",
    "### commit \n",
    "\n",
    "### push \n",
    "\n"
   ]
  },
  {
   "cell_type": "code",
   "execution_count": null,
   "metadata": {},
   "outputs": [],
   "source": []
  }
 ],
 "metadata": {
  "kernelspec": {
   "display_name": "Python 3.7.11",
   "language": "python",
   "name": "python3"
  }
 },
 "nbformat": 4,
 "nbformat_minor": 0
}
