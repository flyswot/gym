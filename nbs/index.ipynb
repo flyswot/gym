{
 "cells": [
  {
   "cell_type": "code",
   "execution_count": null,
   "metadata": {},
   "outputs": [],
   "source": [
    "#hide\n",
    "from flyswot_gym.core import *"
   ]
  },
  {
   "cell_type": "markdown",
   "metadata": {},
   "source": [
    "# flyswot-gym 🦾\n",
    "\n",
    "> “When you go through hardships and decide not to surrender, that is strength.” - Arnold Schwarzenegger"
   ]
  },
  {
   "cell_type": "markdown",
   "metadata": {},
   "source": [
    "`flyswot-gym` is a set of functions for helping to train [`flyswot`](github.com/davanstrien/flyswot/) models. This is a WIP and mainly intended for our particular workflow."
   ]
  },
  {
   "cell_type": "markdown",
   "metadata": {},
   "source": [
    "## 🚀 Training/updating a new flyswot model \n",
    "\n",
    "These steps will also work for training other image classification models thought the pipeline isn't intended to cover all possible scenarios to you may not get good results if you are doing something very different.\n"
   ]
  },
  {
   "cell_type": "markdown",
   "metadata": {},
   "source": [
    "### Loading our data\n",
    "\n",
    "The data loading workflow described below assumes that you are working with data structured in an image folder structure. In this structure images are sorted into subdirectories with those directories representing the label for that image. For example:\n",
    "\n",
    "```\n",
    "Images/\n",
    "    dogs/\n",
    "        dog1.jpg\n",
    "        dog2.jpg\n",
    "    cats/\n",
    "        cats1.jpg\n",
    "        cats2.jpg\n",
    "```\n",
    "\n",
    "We use the Hugging Face hub to store the data we are going to use for training. To upload our data from a local file system to the hub, we will use a command line tool `hugit`. This uploads our data to the hub and gets it into a format that can be used to train a computer vision model. For full instructions on using `hugit` please refer to the [docs](https://hugit-cli.readthedocs.io/en/latest/)."
   ]
  },
  {
   "cell_type": "markdown",
   "metadata": {},
   "source": [
    "## Training/updating a model \n",
    "\n",
    "Once you have your data uploaded to the 🤗 hub we can train our or update a new model. There is a notebok which helps us do this 🦾 <a href=\"https://colab.research.google.com/github/davanstrien/flyswot-gym/blob/master/flyswot_gym.ipynb\" target=\"_parent\"><img src=\"https://colab.research.google.com/assets/colab-badge.svg\" alt=\"Open In Colab\"/></a> "
   ]
  },
  {
   "cell_type": "markdown",
   "metadata": {},
   "source": [
    "## Using our model "
   ]
  },
  {
   "cell_type": "markdown",
   "metadata": {},
   "source": [
    "For using a new model you can use [flyswot](https://github.com/davanstrien/flyswot/). You can pass in the model ID for your model to let `flyswot` know which model it should use for making predictions."
   ]
  },
  {
   "cell_type": "markdown",
   "metadata": {},
   "source": [
    "```\n",
    "Usage: flyswot predict directory [OPTIONS] DIRECTORY CSV_SAVE_DIR\n",
    "\n",
    "  Predicts against all images stored under DIRECTORY which match PATTERN in the\n",
    "  filename.\n",
    "\n",
    "  By default searches for filenames containing 'fs'.\n",
    "\n",
    "  Creates a CSV report saved to `csv_save_dir`\n",
    "\n",
    "Arguments:\n",
    "  DIRECTORY     Directory to start searching for images from  [required]\n",
    "  CSV_SAVE_DIR  Directory used to store the csv report  [required]\n",
    "\n",
    "Options:\n",
    "  --model-id TEXT       The model flyswot should use for making predictions\n",
    "                        [default: flyswot/convnext-tiny-224_flyswot]\n",
    "  --pattern TEXT        Pattern used to filter image filenames\n",
    "  --bs INTEGER          Batch Size  [default: 16]\n",
    "  --image-formats TEXT  Image format(s) to check  [default: .tif]\n",
    "  --help                Show this message and exit.\n",
    "```"
   ]
  }
 ],
 "metadata": {
  "kernelspec": {
   "display_name": "Python 3 (ipykernel)",
   "language": "python",
   "name": "python3"
  }
 },
 "nbformat": 4,
 "nbformat_minor": 4
}
